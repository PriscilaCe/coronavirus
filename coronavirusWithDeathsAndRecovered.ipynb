{
 "cells": [
  {
   "cell_type": "markdown",
   "metadata": {},
   "source": [
    "### Import libs"
   ]
  },
  {
   "cell_type": "code",
   "execution_count": 1,
   "metadata": {},
   "outputs": [],
   "source": [
    "import warnings\n",
    "warnings.filterwarnings(\"ignore\")\n",
    "\n",
    "import pandas as pd\n",
    "import numpy as np\n",
    "import matplotlib as plt\n",
    "import seaborn as sns\n",
    "import datetime\n",
    "\n",
    "from pyramid.arima import auto_arima"
   ]
  },
  {
   "cell_type": "markdown",
   "metadata": {},
   "source": [
    "### Read data"
   ]
  },
  {
   "cell_type": "code",
   "execution_count": 2,
   "metadata": {},
   "outputs": [],
   "source": [
    "df = pd.read_csv(\"data-wrss9.csv\", parse_dates=[\"Date\"], index_col=0)"
   ]
  },
  {
   "cell_type": "markdown",
   "metadata": {},
   "source": [
    "### Rename columns"
   ]
  },
  {
   "cell_type": "code",
   "execution_count": 3,
   "metadata": {},
   "outputs": [
    {
     "data": {
      "text/plain": [
       "Index(['Total confirmed cases', 'Total deaths', 'Total recovered'], dtype='object')"
      ]
     },
     "execution_count": 3,
     "metadata": {},
     "output_type": "execute_result"
    }
   ],
   "source": [
    "df.columns"
   ]
  },
  {
   "cell_type": "code",
   "execution_count": 4,
   "metadata": {},
   "outputs": [],
   "source": [
    "df.rename(columns={'Total confirmed cases':'TotalConfirmedCases',\n",
    "                   'Total deaths':'TotalDeaths',\n",
    "                   'Total recovered':'TotalRecovered'\n",
    "                  }, inplace=True)"
   ]
  },
  {
   "cell_type": "markdown",
   "metadata": {},
   "source": [
    "### Data Analysis"
   ]
  },
  {
   "cell_type": "code",
   "execution_count": 5,
   "metadata": {
    "scrolled": true
   },
   "outputs": [
    {
     "data": {
      "text/html": [
       "<div>\n",
       "<style scoped>\n",
       "    .dataframe tbody tr th:only-of-type {\n",
       "        vertical-align: middle;\n",
       "    }\n",
       "\n",
       "    .dataframe tbody tr th {\n",
       "        vertical-align: top;\n",
       "    }\n",
       "\n",
       "    .dataframe thead th {\n",
       "        text-align: right;\n",
       "    }\n",
       "</style>\n",
       "<table border=\"1\" class=\"dataframe\">\n",
       "  <thead>\n",
       "    <tr style=\"text-align: right;\">\n",
       "      <th></th>\n",
       "      <th>TotalConfirmedCases</th>\n",
       "      <th>TotalDeaths</th>\n",
       "      <th>TotalRecovered</th>\n",
       "    </tr>\n",
       "    <tr>\n",
       "      <th>Date</th>\n",
       "      <th></th>\n",
       "      <th></th>\n",
       "      <th></th>\n",
       "    </tr>\n",
       "  </thead>\n",
       "  <tbody>\n",
       "    <tr>\n",
       "      <th>Jan 23</th>\n",
       "      <td>555</td>\n",
       "      <td>0</td>\n",
       "      <td>0</td>\n",
       "    </tr>\n",
       "    <tr>\n",
       "      <th>Jan 24</th>\n",
       "      <td>653</td>\n",
       "      <td>18</td>\n",
       "      <td>30</td>\n",
       "    </tr>\n",
       "    <tr>\n",
       "      <th>Jan 25</th>\n",
       "      <td>941</td>\n",
       "      <td>26</td>\n",
       "      <td>36</td>\n",
       "    </tr>\n",
       "    <tr>\n",
       "      <th>Jan 26</th>\n",
       "      <td>2019</td>\n",
       "      <td>56</td>\n",
       "      <td>49</td>\n",
       "    </tr>\n",
       "    <tr>\n",
       "      <th>Jan 27</th>\n",
       "      <td>2794</td>\n",
       "      <td>80</td>\n",
       "      <td>54</td>\n",
       "    </tr>\n",
       "  </tbody>\n",
       "</table>\n",
       "</div>"
      ],
      "text/plain": [
       "        TotalConfirmedCases  TotalDeaths  TotalRecovered\n",
       "Date                                                    \n",
       "Jan 23                  555            0               0\n",
       "Jan 24                  653           18              30\n",
       "Jan 25                  941           26              36\n",
       "Jan 26                 2019           56              49\n",
       "Jan 27                 2794           80              54"
      ]
     },
     "execution_count": 5,
     "metadata": {},
     "output_type": "execute_result"
    }
   ],
   "source": [
    "df.head()"
   ]
  },
  {
   "cell_type": "code",
   "execution_count": 6,
   "metadata": {},
   "outputs": [
    {
     "data": {
      "text/html": [
       "<div>\n",
       "<style scoped>\n",
       "    .dataframe tbody tr th:only-of-type {\n",
       "        vertical-align: middle;\n",
       "    }\n",
       "\n",
       "    .dataframe tbody tr th {\n",
       "        vertical-align: top;\n",
       "    }\n",
       "\n",
       "    .dataframe thead th {\n",
       "        text-align: right;\n",
       "    }\n",
       "</style>\n",
       "<table border=\"1\" class=\"dataframe\">\n",
       "  <thead>\n",
       "    <tr style=\"text-align: right;\">\n",
       "      <th></th>\n",
       "      <th>TotalConfirmedCases</th>\n",
       "      <th>TotalDeaths</th>\n",
       "      <th>TotalRecovered</th>\n",
       "    </tr>\n",
       "    <tr>\n",
       "      <th>Date</th>\n",
       "      <th></th>\n",
       "      <th></th>\n",
       "      <th></th>\n",
       "    </tr>\n",
       "  </thead>\n",
       "  <tbody>\n",
       "    <tr>\n",
       "      <th>Mar 31</th>\n",
       "      <td>802726</td>\n",
       "      <td>39051</td>\n",
       "      <td>177866</td>\n",
       "    </tr>\n",
       "    <tr>\n",
       "      <th>Apr 1</th>\n",
       "      <td>873563</td>\n",
       "      <td>43451</td>\n",
       "      <td>186827</td>\n",
       "    </tr>\n",
       "    <tr>\n",
       "      <th>Apr 2</th>\n",
       "      <td>941202</td>\n",
       "      <td>47631</td>\n",
       "      <td>198075</td>\n",
       "    </tr>\n",
       "    <tr>\n",
       "      <th>Apr 3</th>\n",
       "      <td>1029516</td>\n",
       "      <td>54153</td>\n",
       "      <td>219868</td>\n",
       "    </tr>\n",
       "    <tr>\n",
       "      <th>Apr 4</th>\n",
       "      <td>1139112</td>\n",
       "      <td>61144</td>\n",
       "      <td>236203</td>\n",
       "    </tr>\n",
       "  </tbody>\n",
       "</table>\n",
       "</div>"
      ],
      "text/plain": [
       "        TotalConfirmedCases  TotalDeaths  TotalRecovered\n",
       "Date                                                    \n",
       "Mar 31               802726        39051          177866\n",
       "Apr 1                873563        43451          186827\n",
       "Apr 2                941202        47631          198075\n",
       "Apr 3               1029516        54153          219868\n",
       "Apr 4               1139112        61144          236203"
      ]
     },
     "execution_count": 6,
     "metadata": {},
     "output_type": "execute_result"
    }
   ],
   "source": [
    "df.tail()"
   ]
  },
  {
   "cell_type": "code",
   "execution_count": 7,
   "metadata": {},
   "outputs": [
    {
     "data": {
      "text/plain": [
       "<matplotlib.axes._subplots.AxesSubplot at 0x7f67b0508c50>"
      ]
     },
     "execution_count": 7,
     "metadata": {},
     "output_type": "execute_result"
    },
    {
     "data": {
      "image/png": "[encoded data removed]",
      "text/plain": [
       "<Figure size 1224x576 with 1 Axes>"
      ]
     },
     "metadata": {
      "needs_background": "light"
     },
     "output_type": "display_data"
    }
   ],
   "source": [
    "df.TotalConfirmedCases.plot(title=\"Total Cases\", figsize=(17, 8), legend=True)\n",
    "df.TotalDeaths.plot(figsize=(17, 8), legend=True)\n",
    "df.TotalRecovered.plot(figsize=(17, 8), legend=True)"
   ]
  },
  {
   "cell_type": "code",
   "execution_count": 8,
   "metadata": {},
   "outputs": [
    {
     "data": {
      "text/plain": [
       "<matplotlib.axes._subplots.AxesSubplot at 0x7f67ae47e710>"
      ]
     },
     "execution_count": 8,
     "metadata": {},
     "output_type": "execute_result"
    },
    {
     "data": {
      "image/png": "[encoded data removed]",
      "text/plain": [
       "<Figure size 1224x576 with 1 Axes>"
      ]
     },
     "metadata": {
      "needs_background": "light"
     },
     "output_type": "display_data"
    }
   ],
   "source": [
    "(df.TotalConfirmedCases - df.TotalConfirmedCases.shift(1)).plot(title=\"Daily Difference\", figsize=(17, 8), legend=True)\n",
    "(df.TotalDeaths - df.TotalDeaths.shift(1)).plot(figsize=(17, 8), legend=True)\n",
    "(df.TotalRecovered - df.TotalRecovered.shift(1)).plot(figsize=(17, 8), legend=True)"
   ]
  },
  {
   "cell_type": "markdown",
   "metadata": {},
   "source": [
    "### Constants for predictions"
   ]
  },
  {
   "cell_type": "code",
   "execution_count": 9,
   "metadata": {},
   "outputs": [],
   "source": [
    "predicted_days = 5\n",
    "firstPredictionDay = datetime.datetime.strptime(df.index[-1] + ' 2020','%b %d %Y') + datetime.timedelta(days = 1)"
   ]
  },
  {
   "cell_type": "markdown",
   "metadata": {},
   "source": [
    "### Arima for confirmed cases"
   ]
  },
  {
   "cell_type": "code",
   "execution_count": 10,
   "metadata": {},
   "outputs": [
    {
     "name": "stdout",
     "output_type": "stream",
     "text": [
      "Fit ARIMA: order=(2, 2, 2); AIC=1552.438, BIC=1566.014, Fit time=1.458 seconds\n",
      "Fit ARIMA: order=(0, 2, 0); AIC=1578.610, BIC=1583.135, Fit time=0.021 seconds\n",
      "Fit ARIMA: order=(1, 2, 0); AIC=1562.545, BIC=1569.333, Fit time=0.536 seconds\n",
      "Fit ARIMA: order=(0, 2, 1); AIC=1551.247, BIC=1558.035, Fit time=0.834 seconds\n",
      "Fit ARIMA: order=(1, 2, 1); AIC=1552.030, BIC=1561.081, Fit time=0.734 seconds\n",
      "Fit ARIMA: order=(0, 2, 2); AIC=1550.823, BIC=1559.874, Fit time=0.874 seconds\n",
      "Fit ARIMA: order=(1, 2, 3); AIC=1539.052, BIC=1552.628, Fit time=5.073 seconds\n",
      "Fit ARIMA: order=(0, 2, 3); AIC=1540.692, BIC=1552.005, Fit time=2.511 seconds\n",
      "Fit ARIMA: order=(2, 2, 3); AIC=nan, BIC=nan, Fit time=nan seconds\n",
      "Fit ARIMA: order=(1, 2, 2); AIC=1541.684, BIC=1552.998, Fit time=4.655 seconds\n",
      "Fit ARIMA: order=(1, 2, 4); AIC=nan, BIC=nan, Fit time=nan seconds\n",
      "Fit ARIMA: order=(2, 2, 4); AIC=1537.627, BIC=1555.728, Fit time=5.703 seconds\n",
      "Fit ARIMA: order=(3, 2, 4); AIC=nan, BIC=nan, Fit time=nan seconds\n",
      "Fit ARIMA: order=(2, 2, 5); AIC=1544.530, BIC=1564.894, Fit time=6.314 seconds\n",
      "Fit ARIMA: order=(3, 2, 5); AIC=nan, BIC=nan, Fit time=nan seconds\n",
      "Total fit time: 45.839 seconds\n"
     ]
    }
   ],
   "source": [
    "confirmed_model = auto_arima(df.TotalConfirmedCases,\n",
    "                            seasonal=False,\n",
    "                            trace=True,\n",
    "                            error_action='ignore',  \n",
    "                            suppress_warnings=True, \n",
    "                            stepwise=True)"
   ]
  },
  {
   "cell_type": "code",
   "execution_count": 11,
   "metadata": {},
   "outputs": [
    {
     "data": {
      "text/plain": [
       "1537.6268623486455"
      ]
     },
     "execution_count": 11,
     "metadata": {},
     "output_type": "execute_result"
    }
   ],
   "source": [
    "confirmed_model.aic()"
   ]
  },
  {
   "cell_type": "code",
   "execution_count": 12,
   "metadata": {},
   "outputs": [
    {
     "data": {
      "text/plain": [
       "ARIMA(callback=None, disp=0, maxiter=50, method=None, order=(2, 2, 4),\n",
       "      out_of_sample_size=0, scoring='mse', scoring_args={}, seasonal_order=None,\n",
       "      solver='lbfgs', start_params=None, suppress_warnings=True,\n",
       "      transparams=True, trend='c')"
      ]
     },
     "execution_count": 12,
     "metadata": {},
     "output_type": "execute_result"
    }
   ],
   "source": [
    "confirmed_model.fit(df.TotalConfirmedCases)"
   ]
  },
  {
   "cell_type": "code",
   "execution_count": 13,
   "metadata": {},
   "outputs": [],
   "source": [
    "new_cases_forecast = confirmed_model.predict(n_periods=predicted_days)"
   ]
  },
  {
   "cell_type": "code",
   "execution_count": 14,
   "metadata": {},
   "outputs": [
    {
     "name": "stdout",
     "output_type": "stream",
     "text": [
      "2020-04-05 - 1188318\n",
      "2020-04-06 - 1261790\n",
      "2020-04-07 - 1334311\n",
      "2020-04-08 - 1434541\n",
      "2020-04-09 - 1505574\n"
     ]
    }
   ],
   "source": [
    "for x in range (0, predicted_days):\n",
    "    print(str(firstPredictionDay + datetime.timedelta(days = x))[0:10] + \" - \" +str(int(new_cases_forecast[x])))"
   ]
  },
  {
   "cell_type": "markdown",
   "metadata": {},
   "source": [
    "### Arima for death cases"
   ]
  },
  {
   "cell_type": "code",
   "execution_count": 15,
   "metadata": {},
   "outputs": [
    {
     "name": "stdout",
     "output_type": "stream",
     "text": [
      "Fit ARIMA: order=(2, 2, 2); AIC=1145.173, BIC=1158.749, Fit time=1.133 seconds\n",
      "Fit ARIMA: order=(0, 2, 0); AIC=1168.159, BIC=1172.684, Fit time=0.017 seconds\n",
      "Fit ARIMA: order=(1, 2, 0); AIC=1153.537, BIC=1160.325, Fit time=0.211 seconds\n",
      "Fit ARIMA: order=(0, 2, 1); AIC=1146.524, BIC=1153.312, Fit time=0.247 seconds\n",
      "Fit ARIMA: order=(1, 2, 2); AIC=nan, BIC=nan, Fit time=nan seconds\n",
      "Fit ARIMA: order=(3, 2, 2); AIC=1124.371, BIC=1140.210, Fit time=1.907 seconds\n",
      "Fit ARIMA: order=(3, 2, 1); AIC=1148.899, BIC=1162.475, Fit time=1.452 seconds\n",
      "Fit ARIMA: order=(3, 2, 3); AIC=1125.968, BIC=1144.070, Fit time=3.456 seconds\n",
      "Fit ARIMA: order=(2, 2, 1); AIC=1143.213, BIC=1154.527, Fit time=0.687 seconds\n",
      "Fit ARIMA: order=(4, 2, 3); AIC=1166.601, BIC=1186.965, Fit time=2.994 seconds\n",
      "Fit ARIMA: order=(4, 2, 2); AIC=1168.421, BIC=1186.522, Fit time=6.991 seconds\n",
      "Total fit time: 19.200 seconds\n"
     ]
    }
   ],
   "source": [
    "deaths_model = auto_arima(df.TotalDeaths,\n",
    "                            seasonal=False,\n",
    "                            trace=True,\n",
    "                            error_action='ignore',  \n",
    "                            suppress_warnings=True, \n",
    "                            stepwise=True)"
   ]
  },
  {
   "cell_type": "code",
   "execution_count": 16,
   "metadata": {},
   "outputs": [
    {
     "data": {
      "text/plain": [
       "1124.3714012179453"
      ]
     },
     "execution_count": 16,
     "metadata": {},
     "output_type": "execute_result"
    }
   ],
   "source": [
    "deaths_model.aic()"
   ]
  },
  {
   "cell_type": "code",
   "execution_count": 17,
   "metadata": {},
   "outputs": [
    {
     "data": {
      "text/plain": [
       "ARIMA(callback=None, disp=0, maxiter=50, method=None, order=(3, 2, 2),\n",
       "      out_of_sample_size=0, scoring='mse', scoring_args={}, seasonal_order=None,\n",
       "      solver='lbfgs', start_params=None, suppress_warnings=True,\n",
       "      transparams=True, trend='c')"
      ]
     },
     "execution_count": 17,
     "metadata": {},
     "output_type": "execute_result"
    }
   ],
   "source": [
    "deaths_model.fit(df.TotalDeaths)"
   ]
  },
  {
   "cell_type": "code",
   "execution_count": 18,
   "metadata": {},
   "outputs": [],
   "source": [
    "death_forecast = deaths_model.predict(n_periods=predicted_days)"
   ]
  },
  {
   "cell_type": "code",
   "execution_count": 19,
   "metadata": {},
   "outputs": [
    {
     "name": "stdout",
     "output_type": "stream",
     "text": [
      "2020-04-05 - 66199\n",
      "2020-04-06 - 72302\n",
      "2020-04-07 - 79482\n",
      "2020-04-08 - 86768\n",
      "2020-04-09 - 94382\n"
     ]
    }
   ],
   "source": [
    "for x in range (0, predicted_days):\n",
    "    print(str(firstPredictionDay + datetime.timedelta(days = x))[0:10] + \" - \" +str(int(death_forecast[x])))"
   ]
  },
  {
   "cell_type": "markdown",
   "metadata": {},
   "source": [
    "### Arima for recovered cases"
   ]
  },
  {
   "cell_type": "code",
   "execution_count": 20,
   "metadata": {},
   "outputs": [
    {
     "name": "stdout",
     "output_type": "stream",
     "text": [
      "Fit ARIMA: order=(2, 2, 2); AIC=1303.172, BIC=1316.748, Fit time=1.049 seconds\n",
      "Fit ARIMA: order=(0, 2, 0); AIC=1353.130, BIC=1357.655, Fit time=0.016 seconds\n",
      "Fit ARIMA: order=(1, 2, 0); AIC=1320.676, BIC=1327.464, Fit time=0.293 seconds\n",
      "Fit ARIMA: order=(0, 2, 1); AIC=1316.059, BIC=1322.847, Fit time=0.307 seconds\n",
      "Fit ARIMA: order=(1, 2, 2); AIC=1295.577, BIC=1306.891, Fit time=0.845 seconds\n",
      "Fit ARIMA: order=(1, 2, 1); AIC=1309.878, BIC=1318.929, Fit time=0.707 seconds\n",
      "Fit ARIMA: order=(1, 2, 3); AIC=1297.139, BIC=1310.715, Fit time=1.436 seconds\n",
      "Fit ARIMA: order=(2, 2, 3); AIC=nan, BIC=nan, Fit time=nan seconds\n",
      "Fit ARIMA: order=(0, 2, 2); AIC=1300.784, BIC=1309.835, Fit time=0.520 seconds\n",
      "Total fit time: 5.705 seconds\n"
     ]
    }
   ],
   "source": [
    "recovered_model = auto_arima(df.TotalRecovered,\n",
    "                            seasonal=False,\n",
    "                            trace=True,\n",
    "                            error_action='ignore',  \n",
    "                            suppress_warnings=True, \n",
    "                            stepwise=True)"
   ]
  },
  {
   "cell_type": "code",
   "execution_count": 21,
   "metadata": {},
   "outputs": [
    {
     "data": {
      "text/plain": [
       "1295.5774845537358"
      ]
     },
     "execution_count": 21,
     "metadata": {},
     "output_type": "execute_result"
    }
   ],
   "source": [
    "recovered_model.aic()"
   ]
  },
  {
   "cell_type": "code",
   "execution_count": 22,
   "metadata": {},
   "outputs": [
    {
     "data": {
      "text/plain": [
       "ARIMA(callback=None, disp=0, maxiter=50, method=None, order=(1, 2, 2),\n",
       "      out_of_sample_size=0, scoring='mse', scoring_args={}, seasonal_order=None,\n",
       "      solver='lbfgs', start_params=None, suppress_warnings=True,\n",
       "      transparams=True, trend='c')"
      ]
     },
     "execution_count": 22,
     "metadata": {},
     "output_type": "execute_result"
    }
   ],
   "source": [
    "recovered_model.fit(df.TotalRecovered)"
   ]
  },
  {
   "cell_type": "code",
   "execution_count": 23,
   "metadata": {},
   "outputs": [],
   "source": [
    "recovered_forecast = recovered_model.predict(n_periods=predicted_days)"
   ]
  },
  {
   "cell_type": "code",
   "execution_count": 24,
   "metadata": {},
   "outputs": [
    {
     "name": "stdout",
     "output_type": "stream",
     "text": [
      "2020-04-05 - 253346\n",
      "2020-04-06 - 270435\n",
      "2020-04-07 - 287587\n",
      "2020-04-08 - 304869\n",
      "2020-04-09 - 322319\n"
     ]
    }
   ],
   "source": [
    "for x in range (0, predicted_days):\n",
    "    print(str(firstPredictionDay + datetime.timedelta(days = x))[0:10] + \" - \" +str(int(recovered_forecast[x])))"
   ]
  }
 ],
 "metadata": {
  "kernelspec": {
   "display_name": "Python 3",
   "language": "python",
   "name": "python3"
  },
  "language_info": {
   "codemirror_mode": {
    "name": "ipython",
    "version": 3
   },
   "file_extension": ".py",
   "mimetype": "text/x-python",
   "name": "python",
   "nbconvert_exporter": "python",
   "pygments_lexer": "ipython3",
   "version": "3.6.9"
  }
 },
 "nbformat": 4,
 "nbformat_minor": 2
}
