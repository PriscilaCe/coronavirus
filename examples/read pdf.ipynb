{
 "cells": [
  {
   "cell_type": "code",
   "execution_count": 19,
   "metadata": {},
   "outputs": [],
   "source": [
    "import PyPDF2"
   ]
  },
  {
   "cell_type": "code",
   "execution_count": 20,
   "metadata": {},
   "outputs": [],
   "source": [
    "# creating a pdf file object \n",
    "pdfFileObj = open('localidades_al_03.04.2020.pdf', 'rb')  "
   ]
  },
  {
   "cell_type": "code",
   "execution_count": 21,
   "metadata": {},
   "outputs": [],
   "source": [
    "# creating a pdf reader object \n",
    "pdfReader = PyPDF2.PdfFileReader(pdfFileObj)"
   ]
  },
  {
   "cell_type": "code",
   "execution_count": 10,
   "metadata": {},
   "outputs": [
    {
     "name": "stdout",
     "output_type": "stream",
     "text": [
      "1\n"
     ]
    }
   ],
   "source": [
    "# printing number of pages in pdf file \n",
    "print(pdfReader.numPages) "
   ]
  },
  {
   "cell_type": "code",
   "execution_count": 24,
   "metadata": {},
   "outputs": [],
   "source": [
    "pageObj = pdfReader.getPage(0)"
   ]
  },
  {
   "cell_type": "code",
   "execution_count": 25,
   "metadata": {
    "scrolled": true
   },
   "outputs": [
    {
     "data": {
      "text/plain": [
       "{'/Contents': {'/Filter': '/FlateDecode'},\n",
       " '/MediaBox': [0, 0, 900, 1125.12],\n",
       " '/Parent': {'/Type': '/Pages', '/Kids': [IndirectObject(4, 0)], '/Count': 1},\n",
       " '/Resources': {'/ExtGState': {'/G10': {'/BM': '/Normal', '/ca': 0.502},\n",
       "   '/G12': {'/BM': '/Normal', '/ca': 0.2196},\n",
       "   '/G13': {'/BM': '/Normal', '/ca': 0.0588},\n",
       "   '/G14': {'/BM': '/Normal', '/ca': 0.0392},\n",
       "   '/G15': {'/BM': '/Normal', '/ca': 0.1098},\n",
       "   '/G16': {'/BM': '/Normal', '/ca': 0.0745},\n",
       "   '/G17': {'/BM': '/Normal', '/ca': 0.1451},\n",
       "   '/G18': {'/BM': '/Normal', '/ca': 0.1294},\n",
       "   '/G19': {'/BM': '/Normal', '/ca': 0.0941},\n",
       "   '/G3': {'/BM': '/Normal', '/ca': 1},\n",
       "   '/G4': {'/BM': '/Normal', '/ca': 0.9961},\n",
       "   '/G9': {'/BM': '/Normal',\n",
       "    '/CA': 1,\n",
       "    '/LC': 0,\n",
       "    '/LJ': 0,\n",
       "    '/LW': 1,\n",
       "    '/ML': 4,\n",
       "    '/SA': <PyPDF2.generic.BooleanObject at 0x18311819640>,\n",
       "    '/ca': 1}},\n",
       "  '/Font': {'/F11': {'/BaseFont': '/Roboto-Bold',\n",
       "    '/DescendantFonts': [IndirectObject(23, 0)],\n",
       "    '/Encoding': '/Identity-H',\n",
       "    '/Subtype': '/Type0',\n",
       "    '/ToUnicode': {'/Filter': '/FlateDecode'},\n",
       "    '/Type': '/Font'},\n",
       "   '/F7': {'/BaseFont': '/Roboto-Regular',\n",
       "    '/DescendantFonts': [IndirectObject(25, 0)],\n",
       "    '/Encoding': '/Identity-H',\n",
       "    '/Subtype': '/Type0',\n",
       "    '/ToUnicode': {'/Filter': '/FlateDecode'},\n",
       "    '/Type': '/Font'}},\n",
       "  '/ProcSet': ['/PDF', '/Text', '/ImageB', '/ImageC', '/ImageI'],\n",
       "  '/XObject': {'/X5': {'/BitsPerComponent': 8,\n",
       "    '/ColorSpace': '/DeviceRGB',\n",
       "    '/Filter': '/FlateDecode',\n",
       "    '/Height': 1349,\n",
       "    '/SMask': {'/BitsPerComponent': 8,\n",
       "     '/ColorSpace': '/DeviceGray',\n",
       "     '/Filter': '/FlateDecode',\n",
       "     '/Height': 1349,\n",
       "     '/Subtype': '/Image',\n",
       "     '/Type': '/XObject',\n",
       "     '/Width': 2100},\n",
       "    '/Subtype': '/Image',\n",
       "    '/Type': '/XObject',\n",
       "    '/Width': 2100},\n",
       "   '/X8': {'/BBox': [0, 0, 3750, 4688],\n",
       "    '/Filter': '/FlateDecode',\n",
       "    '/Group': {'/I': <PyPDF2.generic.BooleanObject at 0x18311819550>,\n",
       "     '/S': '/Transparency',\n",
       "     '/Type': '/Group'},\n",
       "    '/Resources': {'/ExtGState': {'/G3': {'/BM': '/Normal', '/ca': 1}},\n",
       "     '/Font': {'/F7': {'/BaseFont': '/Roboto-Regular',\n",
       "       '/DescendantFonts': [IndirectObject(25, 0)],\n",
       "       '/Encoding': '/Identity-H',\n",
       "       '/Subtype': '/Type0',\n",
       "       '/ToUnicode': {'/Filter': '/FlateDecode'},\n",
       "       '/Type': '/Font'}},\n",
       "     '/ProcSet': ['/PDF', '/Text', '/ImageB', '/ImageC', '/ImageI']},\n",
       "    '/Subtype': '/Form',\n",
       "    '/Type': '/XObject'}}},\n",
       " '/StructParents': 0,\n",
       " '/Type': '/Page',\n",
       " '/CropBox': [0, 0, 900, 1125.12],\n",
       " '/Rotate': 0}"
      ]
     },
     "execution_count": 25,
     "metadata": {},
     "output_type": "execute_result"
    }
   ],
   "source": [
    "pageObj"
   ]
  },
  {
   "cell_type": "code",
   "execution_count": 30,
   "metadata": {},
   "outputs": [
    {
     "name": "stdout",
     "output_type": "stream",
     "text": [
      "<bound method PageObject.extractText of {'/Contents': IndirectObject(6, 0), '/MediaBox': RectangleObject([0, 0, 900, 1125.12]), '/Parent': IndirectObject(2, 0), '/Resources': {'/ExtGState': {'/G10': IndirectObject(7, 0), '/G12': IndirectObject(8, 0), '/G13': IndirectObject(9, 0), '/G14': IndirectObject(10, 0), '/G15': IndirectObject(11, 0), '/G16': IndirectObject(12, 0), '/G17': IndirectObject(13, 0), '/G18': IndirectObject(14, 0), '/G19': IndirectObject(15, 0), '/G3': IndirectObject(16, 0), '/G4': IndirectObject(17, 0), '/G9': IndirectObject(18, 0)}, '/Font': {'/F11': IndirectObject(19, 0), '/F7': IndirectObject(20, 0)}, '/ProcSet': ['/PDF', '/Text', '/ImageB', '/ImageC', '/ImageI'], '/XObject': {'/X5': IndirectObject(21, 0), '/X8': IndirectObject(22, 0)}}, '/StructParents': 0, '/Type': '/Page', '/CropBox': RectangleObject([0, 0, 900, 1125.12]), '/Rotate': 0, '/ArtBox': RectangleObject([0, 0, 900, 1125.12]), '/BleedBox': RectangleObject([0, 0, 900, 1125.12]), '/TrimBox': RectangleObject([0, 0, 900, 1125.12])}>\n"
     ]
    }
   ],
   "source": [
    "\n",
    "print(pageObj.extractText)"
   ]
  },
  {
   "cell_type": "code",
   "execution_count": 11,
   "metadata": {},
   "outputs": [
    {
     "name": "stdout",
     "output_type": "stream",
     "text": [
      "\n",
      "- - - - - - - - - - - - - - - - - - - - - - - - - - - - - - - - - - - - - - - - - - - - -\n"
     ]
    }
   ],
   "source": [
    "for page in range(0, pdfReader.numPages):\n",
    "    pageObj = pdfReader.getPage(page)\n",
    "    print(pageObj.extractText())  \n",
    "    print(\"- - - - - - - - - - - - - - - - - - - - - - - - - - - - - - - - - - - - - - - - - - - - -\")"
   ]
  },
  {
   "cell_type": "code",
   "execution_count": 6,
   "metadata": {},
   "outputs": [],
   "source": [
    "# closing the pdf file object \n",
    "pdfFileObj.close()"
   ]
  }
 ],
 "metadata": {
  "kernelspec": {
   "display_name": "Python 3.8.1 64-bit",
   "language": "python",
   "name": "python38164bitf4cbc33c5b654b37a41eed7a700a7679"
  },
  "language_info": {
   "codemirror_mode": {
    "name": "ipython",
    "version": 3
   },
   "file_extension": ".py",
   "mimetype": "text/x-python",
   "name": "python",
   "nbconvert_exporter": "python",
   "pygments_lexer": "ipython3",
   "version": "3.8.1"
  }
 },
 "nbformat": 4,
 "nbformat_minor": 4
}
